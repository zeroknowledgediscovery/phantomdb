{
 "cells": [
  {
   "cell_type": "markdown",
   "id": "303e8330",
   "metadata": {},
   "source": [
    "# Package teomim use\n",
    "---\n",
    "\n",
    "To generate more digital twins using supplied model  at zenodo\n",
    "\n",
    "1. https://zenodo.org/records/10598052/files/chicago_AA.pkl.gz?download=1   \n",
    "    - For Africak American digital twins from Chicago\n",
    "2. https://zenodo.org/records/10598052/files/national.pkl.gz?download=1\n",
    "    - For national cohort with representative race not explicitly mentioned\n",
    "    "
   ]
  },
  {
   "cell_type": "code",
   "execution_count": 1,
   "id": "331e94ad",
   "metadata": {},
   "outputs": [],
   "source": [
    "from teomim import teomim"
   ]
  },
  {
   "cell_type": "code",
   "execution_count": 2,
   "id": "aabfbcc9",
   "metadata": {},
   "outputs": [
    {
     "name": "stdout",
     "output_type": "stream",
     "text": [
      "Downloaded chicago_AA.pkl.gz\n",
      "Decompressed chicago_AA.pkl\n"
     ]
    }
   ],
   "source": [
    "import requests\n",
    "import gzip\n",
    "import shutil\n",
    "import os\n",
    "\n",
    "# Define the URL and the filenames\n",
    "url = \"https://zenodo.org/records/10598052/files/chicago_AA.pkl.gz?download=1\"\n",
    "compressed_filename = \"chicago_AA.pkl.gz\"\n",
    "decompressed_filename = \"chicago_AA.pkl\"\n",
    "\n",
    "# Function to download the file\n",
    "def download_file(url, local_filename):\n",
    "    response = requests.get(url, stream=True)\n",
    "    if response.status_code == 200:\n",
    "        with open(local_filename, 'wb') as file:\n",
    "            for chunk in response.iter_content(chunk_size=1024):\n",
    "                file.write(chunk)\n",
    "        print(f\"Downloaded {local_filename}\")\n",
    "    else:\n",
    "        print(f\"Failed to download file. Status code: {response.status_code}\")\n",
    "\n",
    "# Function to decompress the file\n",
    "def decompress_file(compressed_filename, decompressed_filename):\n",
    "    with gzip.open(compressed_filename, 'rb') as f_in:\n",
    "        with open(decompressed_filename, 'wb') as f_out:\n",
    "            shutil.copyfileobj(f_in, f_out)\n",
    "    print(f\"Decompressed {decompressed_filename}\")\n",
    "\n",
    "# Download the compressed file\n",
    "download_file(url, compressed_filename)\n",
    "\n",
    "# Decompress the file\n",
    "decompress_file(compressed_filename, decompressed_filename)\n"
   ]
  },
  {
   "cell_type": "code",
   "execution_count": 4,
   "id": "7f661908",
   "metadata": {},
   "outputs": [],
   "source": [
    "# ALPHA is a frequcy modifier \n",
    "# For example {1.5:1} tunes up teh frequecy of EHR codes in history\n",
    "# by tuning the probability of generation from internal model states by a log odds of 1.5\n",
    "# Not necessary to modify, as model is already tuned optimally for examples\n",
    "\n",
    "# num_patients: number of digital twins to generate\n",
    "# model_path: path to the quasinet model downloaded and unpacked\n",
    "# outfile: path to file generated\n",
    "ALPHA={1:1}\n",
    "P=teomim(modelpath='chicago_AA.pkl',alpha=ALPHA,\n",
    "                 gz=False,outfile='out100.csv',num_patients=50)"
   ]
  },
  {
   "cell_type": "code",
   "execution_count": 5,
   "id": "50515ad9",
   "metadata": {},
   "outputs": [
    {
     "name": "stderr",
     "output_type": "stream",
     "text": [
      "100%|██████████| 50/50 [01:42<00:00,  2.05s/it]\n"
     ]
    },
    {
     "name": "stdout",
     "output_type": "stream",
     "text": [
      "CPU times: user 11.7 s, sys: 1.88 s, total: 13.6 s\n",
      "Wall time: 1min 55s\n"
     ]
    }
   ],
   "source": [
    "%%time\n",
    "P.generate()"
   ]
  },
  {
   "cell_type": "code",
   "execution_count": 10,
   "id": "7187a576",
   "metadata": {},
   "outputs": [
    {
     "name": "stdout",
     "output_type": "stream",
     "text": [
      "     prevalences prevalence_expected\n",
      "I10         0.22                 0.7\n",
      "I25         0.52                 0.4\n",
      "I50         0.46                0.25\n",
      "E11         0.82                0.46\n",
      "E66         0.32                 0.3\n",
      "I63         0.40                 0.4\n",
      "G20         0.02                0.15\n",
      "F32         0.20                 0.5\n",
      "F41         0.16                 0.4\n",
      "M81         0.04                0.25\n",
      "J44         0.12                0.55\n",
      "J84         0.02               0.005\n"
     ]
    }
   ],
   "source": [
    "# compare prevalences of various ICD code prefixes in generated data\n",
    "# and what is expected in ADRD patients from literature\n",
    "ef=P.evaluate()\n",
    "print(ef)"
   ]
  },
  {
   "cell_type": "code",
   "execution_count": 11,
   "id": "4a1f407f",
   "metadata": {},
   "outputs": [
    {
     "name": "stdout",
     "output_type": "stream",
     "text": [
      "92.28\n"
     ]
    }
   ],
   "source": [
    "# This is comparison of the two prevelence columns \n",
    "# by computing the Bhattacharyya Coefficient\n",
    "# \n",
    "print(P.quality())"
   ]
  },
  {
   "cell_type": "code",
   "execution_count": 12,
   "id": "485bc032",
   "metadata": {},
   "outputs": [
    {
     "data": {
      "text/plain": [
       "<Axes: >"
      ]
     },
     "execution_count": 12,
     "metadata": {},
     "output_type": "execute_result"
    },
    {
     "data": {
      "image/png": "[encoded data removed]",
      "text/plain": [
       "<Figure size 432x288 with 1 Axes>"
      ]
     },
     "metadata": {
      "needs_background": "light"
     },
     "output_type": "display_data"
    }
   ],
   "source": [
    "ef.plot(kind='bar')"
   ]
  },
  {
   "cell_type": "code",
   "execution_count": null,
   "id": "fd38011b",
   "metadata": {},
   "outputs": [],
   "source": []
  }
 ],
 "metadata": {
  "kernelspec": {
   "display_name": "Python 3",
   "language": "python",
   "name": "python3"
  },
  "language_info": {
   "codemirror_mode": {
    "name": "ipython",
    "version": 3
   },
   "file_extension": ".py",
   "mimetype": "text/x-python",
   "name": "python",
   "nbconvert_exporter": "python",
   "pygments_lexer": "ipython3",
   "version": "3.8.8"
  }
 },
 "nbformat": 4,
 "nbformat_minor": 5
}
